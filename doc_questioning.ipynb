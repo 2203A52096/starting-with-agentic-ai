{
  "nbformat": 4,
  "nbformat_minor": 0,
  "metadata": {
    "colab": {
      "provenance": []
    },
    "kernelspec": {
      "name": "python3",
      "display_name": "Python 3"
    },
    "language_info": {
      "name": "python"
    }
  },
  "cells": [
    {
      "cell_type": "code",
      "execution_count": null,
      "metadata": {
        "id": "Qv7itEYKuAAC"
      },
      "outputs": [],
      "source": [
        "# agentic_ai_workflow.py\n",
        "\n",
        "import streamlit as st\n",
        "from langchain.document_loaders import TextLoader\n",
        "from langchain.text_splitter import CharacterTextSplitter\n",
        "from langchain.embeddings import SentenceTransformerEmbeddings\n",
        "from langchain.vectorstores import FAISS\n",
        "from langchain.chains.question_answering import load_qa_chain\n",
        "from langchain.llms.fake import FakeListLLM\n",
        "\n",
        "# Step 1: Display title\n",
        "st.title(\"🧠 Agentic AI Mini Agent (No API Keys!)\")\n",
        "\n",
        "# Step 2: User input (goal)\n",
        "goal = st.text_input(\"Enter your goal/question:\", placeholder=\"e.g., What is Agentic AI?\")\n",
        "\n",
        "# Step 3: Simulated Agent Planning\n",
        "def agent_plan(goal):\n",
        "    if \"what\" in goal.lower():\n",
        "        return [\"Understand goal\", \"Search document\", \"Answer based on context\"]\n",
        "    else:\n",
        "        return [\"Read input\", \"Try to match content\", \"Respond with info\"]\n",
        "\n",
        "# Step 4: Load & prepare document\n",
        "loader = TextLoader(\"my_documents.txt\")\n",
        "docs = loader.load()\n",
        "\n",
        "splitter = CharacterTextSplitter(chunk_size=500, chunk_overlap=50)\n",
        "splits = splitter.split_documents(docs)\n",
        "\n",
        "embeddings = SentenceTransformerEmbeddings(model_name=\"all-MiniLM-L6-v2\")\n",
        "db = FAISS.from_documents(splits, embeddings)\n",
        "\n",
        "# Step 5: Fake LLM response (no API)\n",
        "llm = FakeListLLM(responses=[\n",
        "    \"Agentic AI is about systems that make decisions and take actions toward a goal, often using memory and tools.\"\n",
        "])\n",
        "chain = load_qa_chain(llm, chain_type=\"stuff\")\n",
        "\n",
        "# Step 6: Run the agent\n",
        "if goal:\n",
        "    with st.spinner(\"Agent is planning and thinking...\"):\n",
        "        plan = agent_plan(goal)\n",
        "        st.subheader(\"🛠️ Agent Plan:\")\n",
        "        for step in plan:\n",
        "            st.write(f\"• {step}\")\n",
        "\n",
        "        # Agent performs search\n",
        "        relevant_docs = db.similarity_search(goal)\n",
        "\n",
        "        # Agent generates response\n",
        "        result = chain.run(input_documents=relevant_docs, question=goal)\n",
        "\n",
        "        st.success(\"✅ Agent Response:\")\n",
        "        st.write(result)\n"
      ]
    }
  ]
}